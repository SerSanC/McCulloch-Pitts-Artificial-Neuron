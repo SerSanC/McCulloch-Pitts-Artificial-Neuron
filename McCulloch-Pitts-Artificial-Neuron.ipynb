{
 "cells": [
  {
   "cell_type": "markdown",
   "metadata": {},
   "source": [
    "# Practice:  McCulloch Pitts Artificial Neuron"
   ]
  },
  {
   "cell_type": "code",
   "execution_count": 4,
   "metadata": {},
   "outputs": [],
   "source": [
    "import numpy as np\n",
    "\"\"\"\n",
    "    En este caso tenemos es necesario definir el funcionamiento de la neurona de MP por que no \n",
    "    esta disponible en librerias como scikit o tensorflow\n",
    "\"\"\"\n",
    "class MPNeuron:\n",
    "    \n",
    "    def __init__(self):\n",
    "        self.threshold = None\n",
    "    \n",
    "    def model(self,z):\n",
    "        # input: [1,0,1,0] [x1,x2, ... , xn]\n",
    "        # z sería la función de agregación\n",
    "        # el return sería la evaluación de la función de activación en base a la agregación\n",
    "        return (sum(z)>= self.threshold)\n",
    "    \n",
    "    def predict(self,X):\n",
    "        Y = []\n",
    "        for x in X:\n",
    "            result = self.model(x)\n",
    "            Y.append(result)\n",
    "        return np.array(Y)"
   ]
  },
  {
   "cell_type": "code",
   "execution_count": 5,
   "metadata": {},
   "outputs": [],
   "source": [
    "# Instanciamos la neurona\n",
    "mp_neuron = MPNeuron()"
   ]
  },
  {
   "cell_type": "code",
   "execution_count": 6,
   "metadata": {},
   "outputs": [],
   "source": [
    "# Establecemos un threshold\n",
    "mp_neuron.threshold = 3"
   ]
  },
  {
   "cell_type": "code",
   "execution_count": 7,
   "metadata": {},
   "outputs": [
    {
     "data": {
      "text/plain": [
       "array([False,  True,  True])"
      ]
     },
     "execution_count": 7,
     "metadata": {},
     "output_type": "execute_result"
    }
   ],
   "source": [
    "# Evaluamos diferentes casos de uso\n",
    "mp_neuron.predict([[1,0,0,0],[1,1,1,1],[1,1,1,0]])"
   ]
  },
  {
   "cell_type": "code",
   "execution_count": null,
   "metadata": {},
   "outputs": [],
   "source": []
  }
 ],
 "metadata": {
  "kernelspec": {
   "display_name": "Python 3",
   "language": "python",
   "name": "python3"
  },
  "language_info": {
   "codemirror_mode": {
    "name": "ipython",
    "version": 3
   },
   "file_extension": ".py",
   "mimetype": "text/x-python",
   "name": "python",
   "nbconvert_exporter": "python",
   "pygments_lexer": "ipython3",
   "version": "3.8.3"
  }
 },
 "nbformat": 4,
 "nbformat_minor": 4
}
